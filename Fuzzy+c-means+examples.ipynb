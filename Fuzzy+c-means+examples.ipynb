{
 "cells": [
  {
   "cell_type": "code",
   "execution_count": 1,
   "metadata": {
    "collapsed": true
   },
   "outputs": [],
   "source": [
    "# example 1"
   ]
  },
  {
   "cell_type": "code",
   "execution_count": 2,
   "metadata": {
    "collapsed": true
   },
   "outputs": [],
   "source": [
    "import numpy as np"
   ]
  },
  {
   "cell_type": "code",
   "execution_count": 60,
   "metadata": {
    "collapsed": true
   },
   "outputs": [],
   "source": [
    "x = np.array([2,3.001,4,5,6,7,8,9,10,11.001])"
   ]
  },
  {
   "cell_type": "code",
   "execution_count": 52,
   "metadata": {
    "collapsed": true
   },
   "outputs": [],
   "source": [
    "# cluster1 = np.ones(x.shape)\n",
    "# cluster2 = np.ones(x.shape)"
   ]
  },
  {
   "cell_type": "code",
   "execution_count": 54,
   "metadata": {},
   "outputs": [],
   "source": [
    "m =2\n",
    "c1 = 3\n",
    "c2 = 11\n",
    "i = 5\n",
    "U11 = 1/((((i-c1)/(i-c1))**(2/(m-1)))+(((i-c1)/(i-c2))**(2/(m-1))))\n",
    "U12 = 1/((((i-c2)/(i-c1))**(2/(m-1)))+(((i-c2)/(i-c2))**(2/(m-1))))\n",
    "# U = 1/(np.sum(x))"
   ]
  },
  {
   "cell_type": "code",
   "execution_count": 55,
   "metadata": {},
   "outputs": [
    {
     "data": {
      "text/plain": [
       "(0.8999999999999999, 0.1)"
      ]
     },
     "execution_count": 55,
     "metadata": {},
     "output_type": "execute_result"
    }
   ],
   "source": [
    "U11,U12"
   ]
  },
  {
   "cell_type": "code",
   "execution_count": 61,
   "metadata": {},
   "outputs": [],
   "source": [
    "m =2\n",
    "c1 = 3\n",
    "c2 = 11\n",
    "c = np.array([c1,c2])\n",
    "denominator1 = 1/((((x-c1)/(x-c1))**(2/(m-1)))+(((x-c1)/(x-c2))**(2/(m-1))))\n",
    "denominator2 = 1/((((x-c2)/(x-c1))**(2/(m-1)))+(((x-c2)/(x-c2))**(2/(m-1))))\n",
    "\n",
    "\n",
    "#for i in x:\n",
    "#    a = i\n",
    "#    print(a)\n",
    "#    U[i] = 1/((((i-c1)/(i-c1))**(2/(m-1)))+(((i-c1)/(i-c2))**(2/(m-1))))\n",
    "#    U2 = \n",
    "# U = 1/(np.sum(x))\n"
   ]
  },
  {
   "cell_type": "code",
   "execution_count": 62,
   "metadata": {},
   "outputs": [
    {
     "data": {
      "text/plain": [
       "(array([  9.87804878e-01,   9.99999984e-01,   9.80000000e-01,\n",
       "          9.00000000e-01,   7.35294118e-01,   5.00000000e-01,\n",
       "          2.64705882e-01,   1.00000000e-01,   2.00000000e-02,\n",
       "          1.56210942e-08]),\n",
       " array([  1.21951220e-02,   1.56289067e-08,   2.00000000e-02,\n",
       "          1.00000000e-01,   2.64705882e-01,   5.00000000e-01,\n",
       "          7.35294118e-01,   9.00000000e-01,   9.80000000e-01,\n",
       "          9.99999984e-01]))"
      ]
     },
     "execution_count": 62,
     "metadata": {},
     "output_type": "execute_result"
    }
   ],
   "source": [
    "denominator1, denominator2"
   ]
  },
  {
   "cell_type": "code",
   "execution_count": null,
   "metadata": {
    "collapsed": true
   },
   "outputs": [],
   "source": []
  }
 ],
 "metadata": {
  "kernelspec": {
   "display_name": "Python 3",
   "language": "python",
   "name": "python3"
  },
  "language_info": {
   "codemirror_mode": {
    "name": "ipython",
    "version": 3
   },
   "file_extension": ".py",
   "mimetype": "text/x-python",
   "name": "python",
   "nbconvert_exporter": "python",
   "pygments_lexer": "ipython3",
   "version": "3.7.3"
  }
 },
 "nbformat": 4,
 "nbformat_minor": 2
}
